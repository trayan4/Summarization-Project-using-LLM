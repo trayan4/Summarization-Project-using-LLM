{
 "cells": [
  {
   "cell_type": "code",
   "execution_count": 4,
   "id": "4e2a9393-7767-488e-a8bf-27c12dca35bd",
   "metadata": {},
   "outputs": [],
   "source": [
    "# imports\n",
    "\n",
    "import os\n",
    "import requests\n",
    "from dotenv import load_dotenv\n",
    "from bs4 import BeautifulSoup\n",
    "from IPython.display import Markdown, display\n",
    "from openai import OpenAI"
   ]
  },
  {
   "cell_type": "code",
   "execution_count": 5,
   "id": "7b87cadb-d513-4303-baee-a37b6f938e4d",
   "metadata": {},
   "outputs": [
    {
     "name": "stdout",
     "output_type": "stream",
     "text": [
      "API key found and looks good so far!\n"
     ]
    }
   ],
   "source": [
    "# Load environment variables in a file called .env\n",
    "\n",
    "load_dotenv()\n",
    "api_key = os.getenv('OPENAI_API_KEY')\n",
    "\n",
    "# Check the key\n",
    "\n",
    "if not api_key:\n",
    "    print(\"No API key was found!\")\n",
    "elif not api_key.startswith(\"sk-proj-\"):\n",
    "    print(\"An API key was found, but it doesn't start sk-proj-; please check you're using the right key\")\n",
    "elif api_key.strip() != api_key:\n",
    "    print(\"An API key was found, but it looks like it might have space or tab characters at the start or end - please remove them\")\n",
    "else:\n",
    "    print(\"API key found and looks good so far!\")\n"
   ]
  },
  {
   "cell_type": "code",
   "execution_count": 6,
   "id": "019974d9-f3ad-4a8a-b5f9-0a3719aea2d3",
   "metadata": {},
   "outputs": [],
   "source": [
    "openai = OpenAI()"
   ]
  },
  {
   "cell_type": "code",
   "execution_count": 7,
   "id": "c5e793b2-6775-426a-a139-4848291d0463",
   "metadata": {},
   "outputs": [],
   "source": [
    "# A class to represent a Webpage\n",
    "\n",
    "class Website:\n",
    "\n",
    "    def __init__(self, url):\n",
    "        \"\"\"\n",
    "        Create this Website object from the given url using the BeautifulSoup library\n",
    "        \"\"\"\n",
    "        self.url = url\n",
    "        response = requests.get(url)\n",
    "        soup = BeautifulSoup(response.content, 'html.parser')\n",
    "        self.title = soup.title.string if soup.title else \"No title found\"\n",
    "        for irrelevant in soup.body([\"script\", \"style\", \"img\", \"input\"]):\n",
    "            irrelevant.decompose()\n",
    "        self.text = soup.body.get_text(separator=\"\\n\", strip=True)"
   ]
  },
  {
   "cell_type": "code",
   "execution_count": 8,
   "id": "2ef960cf-6dc2-4cda-afb3-b38be12f4c97",
   "metadata": {},
   "outputs": [
    {
     "name": "stdout",
     "output_type": "stream",
     "text": [
      "Home - Ganit Labs\n",
      "Ganit Labs\n",
      "Machine Learning, Deep Learning, AI, Data Science. Train the Machine to Think.\n",
      "Home\n",
      "About\n",
      "Services\n",
      "Case Studies\n",
      "Contact\n",
      "Machine Learning, Deep Learning, Artificial Intelligence\n",
      "Train the machine to think\n",
      "Sorry, your browser does not support inline SVG.\n",
      "What we do\n",
      "Our mission is to enable businesses adopt Artificial Intelligence (AI) to stay agile and competitive through incremental and transformative impacts.\n",
      "Our objective is to help your business harness the power of Machine Learning (ML), Neural Nets, Deep Learning and statistical inference to enhance efficiencies and improve the bottom line.\n",
      "We develop and implement\n",
      "custom\n",
      "AI solutions based on your specific business needs. And work with you from inception, development to final deployment.\n",
      "LEARN MORE\n",
      "AI, a data driven approach\n",
      "Do machines have AI?\n",
      "EXPERTISE\n",
      "Customized, end-to-end, reliable, and scalable solution, from design to deployment\n",
      "Data Science - AI & Machine Learning\n",
      "Data Engineering\n",
      "Cloud & Edge (IoT)\n",
      "VIEW ALL SERVICES\n",
      "SELECTED PROJECTS\n",
      "Novel, insightful, custom solutions across diverse industry sectors\n",
      "Prediction of Recipe\n",
      "Food & Beverage\n",
      "Predict Equipment Failure\n",
      "Oil & Gas\n",
      "ML in Genomics\n",
      "Health Care & Genomics\n",
      "SEE MORE CASE STUDIES\n",
      "A GLOBAL PERSPECTIVE\n",
      "Digital transformation poised to impact most businesses\n",
      "By 2030, around 70% of companies may adopt at least\n",
      "one\n",
      "type of AI technology, about 50% companies expected to adopt\n",
      "all\n",
      "AI technologies.\n",
      "AI (and related technologies in computer vision, natural language, virtual assistants, robotic process automation, and advanced machine learning) to drive additional global economic activity by $13 trillion, boosting global GDP by 1.2% a year between 2018 and 2030.\n",
      "- During 1800s, steam engines boosted labor productivity by 0.3% a year\n",
      "- During 1990s, robots impacted 0.4% a year\n",
      "- During 2000s, IT resulted in 0.6% a year\n",
      "Source: McKinsey Global Institute\n",
      "OUR CLIENTS\n",
      "What our clients say about us\n",
      "“\n",
      "Ganit\n",
      "Labs provided\n",
      "a simple, accurate and elegant AI-based solution, customized for our needs. They used state-of-the-art dimensionality\n",
      "reduction, data visualization, and anomaly detection\n",
      "technologies.“ -- Oilfield service provider\n",
      "Publicly-traded US oilfield service provider\n",
      "Beverage producer in Europe\n",
      "Manufacturer of transmission equipment in US\n",
      "US research laboratories\n",
      "Publicly-traded genomics company in the US\n",
      "Electronic device manufacturer\n",
      "© 2024 Ganit Labs. All rights reserved.\n",
      "Linkedin\n",
      "Twitter\n",
      "Facebook\n",
      "Shopping Basket\n"
     ]
    }
   ],
   "source": [
    "# Let's try one out. Change the website and add print statements to follow along.\n",
    "\n",
    "ed = Website(\"https://ganitlabs.ai/\")\n",
    "print(ed.title)\n",
    "print(ed.text)"
   ]
  },
  {
   "cell_type": "code",
   "execution_count": 9,
   "id": "abdb8417-c5dc-44bc-9bee-2e059d162699",
   "metadata": {},
   "outputs": [],
   "source": [
    "# Define our system prompt - you can experiment with this later, changing the last sentence to 'Respond in markdown in Spanish.\"\n",
    "\n",
    "system_prompt = \"You are an assistant that analyzes the contents of a website \\\n",
    "and provides a short summary, ignoring text that might be navigation related. \\\n",
    "Respond in markdown.\""
   ]
  },
  {
   "cell_type": "code",
   "execution_count": 10,
   "id": "f0275b1b-7cfe-4f9d-abfa-7650d378da0c",
   "metadata": {},
   "outputs": [],
   "source": [
    "# A function that writes a User Prompt that asks for summaries of websites:\n",
    "\n",
    "def user_prompt_for(website):\n",
    "    user_prompt = f\"You are looking at a website titled {website.title}\"\n",
    "    user_prompt += \"\\nThe contents of this website is as follows; \\\n",
    "please provide a short summary of this website in markdown. \\\n",
    "If it includes news or announcements, then summarize these too.\\n\\n\"\n",
    "    user_prompt += website.text\n",
    "    return user_prompt"
   ]
  },
  {
   "cell_type": "code",
   "execution_count": 11,
   "id": "2da86431-c1bf-4cbb-b15f-d1d4496a982d",
   "metadata": {},
   "outputs": [
    {
     "data": {
      "text/plain": [
       "'You are an assistant that analyzes the contents of a website and provides a short summary, ignoring text that might be navigation related. Respond in markdown.'"
      ]
     },
     "execution_count": 11,
     "metadata": {},
     "output_type": "execute_result"
    }
   ],
   "source": [
    "system_prompt"
   ]
  },
  {
   "cell_type": "code",
   "execution_count": 12,
   "id": "680a35cd-65f4-4bbd-9128-e47909e66277",
   "metadata": {},
   "outputs": [
    {
     "data": {
      "text/plain": [
       "<__main__.Website at 0x10619b090>"
      ]
     },
     "execution_count": 12,
     "metadata": {},
     "output_type": "execute_result"
    }
   ],
   "source": [
    "ed"
   ]
  },
  {
   "cell_type": "code",
   "execution_count": 13,
   "id": "26448ec4-5c00-4204-baec-7df91d11ff2e",
   "metadata": {},
   "outputs": [
    {
     "name": "stdout",
     "output_type": "stream",
     "text": [
      "You are looking at a website titled Home - Ganit Labs\n",
      "The contents of this website is as follows; please provide a short summary of this website in markdown. If it includes news or announcements, then summarize these too.\n",
      "\n",
      "Ganit Labs\n",
      "Machine Learning, Deep Learning, AI, Data Science. Train the Machine to Think.\n",
      "Home\n",
      "About\n",
      "Services\n",
      "Case Studies\n",
      "Contact\n",
      "Machine Learning, Deep Learning, Artificial Intelligence\n",
      "Train the machine to think\n",
      "Sorry, your browser does not support inline SVG.\n",
      "What we do\n",
      "Our mission is to enable businesses adopt Artificial Intelligence (AI) to stay agile and competitive through incremental and transformative impacts.\n",
      "Our objective is to help your business harness the power of Machine Learning (ML), Neural Nets, Deep Learning and statistical inference to enhance efficiencies and improve the bottom line.\n",
      "We develop and implement\n",
      "custom\n",
      "AI solutions based on your specific business needs. And work with you from inception, development to final deployment.\n",
      "LEARN MORE\n",
      "AI, a data driven approach\n",
      "Do machines have AI?\n",
      "EXPERTISE\n",
      "Customized, end-to-end, reliable, and scalable solution, from design to deployment\n",
      "Data Science - AI & Machine Learning\n",
      "Data Engineering\n",
      "Cloud & Edge (IoT)\n",
      "VIEW ALL SERVICES\n",
      "SELECTED PROJECTS\n",
      "Novel, insightful, custom solutions across diverse industry sectors\n",
      "Prediction of Recipe\n",
      "Food & Beverage\n",
      "Predict Equipment Failure\n",
      "Oil & Gas\n",
      "ML in Genomics\n",
      "Health Care & Genomics\n",
      "SEE MORE CASE STUDIES\n",
      "A GLOBAL PERSPECTIVE\n",
      "Digital transformation poised to impact most businesses\n",
      "By 2030, around 70% of companies may adopt at least\n",
      "one\n",
      "type of AI technology, about 50% companies expected to adopt\n",
      "all\n",
      "AI technologies.\n",
      "AI (and related technologies in computer vision, natural language, virtual assistants, robotic process automation, and advanced machine learning) to drive additional global economic activity by $13 trillion, boosting global GDP by 1.2% a year between 2018 and 2030.\n",
      "- During 1800s, steam engines boosted labor productivity by 0.3% a year\n",
      "- During 1990s, robots impacted 0.4% a year\n",
      "- During 2000s, IT resulted in 0.6% a year\n",
      "Source: McKinsey Global Institute\n",
      "OUR CLIENTS\n",
      "What our clients say about us\n",
      "“\n",
      "Ganit\n",
      "Labs provided\n",
      "a simple, accurate and elegant AI-based solution, customized for our needs. They used state-of-the-art dimensionality\n",
      "reduction, data visualization, and anomaly detection\n",
      "technologies.“ -- Oilfield service provider\n",
      "Publicly-traded US oilfield service provider\n",
      "Beverage producer in Europe\n",
      "Manufacturer of transmission equipment in US\n",
      "US research laboratories\n",
      "Publicly-traded genomics company in the US\n",
      "Electronic device manufacturer\n",
      "© 2024 Ganit Labs. All rights reserved.\n",
      "Linkedin\n",
      "Twitter\n",
      "Facebook\n",
      "Shopping Basket\n"
     ]
    }
   ],
   "source": [
    "print(user_prompt_for(ed))"
   ]
  },
  {
   "cell_type": "code",
   "execution_count": 14,
   "id": "0134dfa4-8299-48b5-b444-f2a8c3403c88",
   "metadata": {},
   "outputs": [],
   "source": [
    "# See how this function creates exactly the format above\n",
    "\n",
    "def messages_for(website):\n",
    "    return [\n",
    "        {\"role\": \"system\", \"content\": system_prompt},\n",
    "        {\"role\": \"user\", \"content\": user_prompt_for(website)}\n",
    "    ]"
   ]
  },
  {
   "cell_type": "code",
   "execution_count": 15,
   "id": "36478464-39ee-485c-9f3f-6a4e458dbc9c",
   "metadata": {},
   "outputs": [
    {
     "data": {
      "text/plain": [
       "[{'role': 'system',\n",
       "  'content': 'You are an assistant that analyzes the contents of a website and provides a short summary, ignoring text that might be navigation related. Respond in markdown.'},\n",
       " {'role': 'user',\n",
       "  'content': 'You are looking at a website titled Home - Ganit Labs\\nThe contents of this website is as follows; please provide a short summary of this website in markdown. If it includes news or announcements, then summarize these too.\\n\\nGanit Labs\\nMachine Learning, Deep Learning, AI, Data Science. Train the Machine to Think.\\nHome\\nAbout\\nServices\\nCase Studies\\nContact\\nMachine Learning, Deep Learning, Artificial Intelligence\\nTrain the machine to think\\nSorry, your browser does not support inline SVG.\\nWhat we do\\nOur mission is to enable businesses adopt Artificial Intelligence (AI) to stay agile and competitive through incremental and transformative impacts.\\nOur objective is to help your business harness the power of Machine Learning (ML), Neural Nets, Deep Learning and statistical inference to enhance efficiencies and improve the bottom line.\\nWe develop and implement\\ncustom\\nAI solutions based on your specific business needs. And work with you from inception, development to final deployment.\\nLEARN MORE\\nAI, a data driven approach\\nDo machines have AI?\\nEXPERTISE\\nCustomized, end-to-end, reliable, and scalable solution, from design to deployment\\nData Science - AI & Machine Learning\\nData Engineering\\nCloud & Edge (IoT)\\nVIEW ALL SERVICES\\nSELECTED PROJECTS\\nNovel, insightful, custom solutions across diverse industry sectors\\nPrediction of Recipe\\nFood & Beverage\\nPredict Equipment Failure\\nOil & Gas\\nML in Genomics\\nHealth Care & Genomics\\nSEE MORE CASE STUDIES\\nA GLOBAL PERSPECTIVE\\nDigital transformation poised to impact most businesses\\nBy 2030, around 70% of companies may adopt at least\\none\\ntype of AI technology, about 50% companies expected to adopt\\nall\\nAI technologies.\\nAI (and related technologies in computer vision, natural language, virtual assistants, robotic process automation, and advanced machine learning) to drive additional global economic activity by $13 trillion, boosting global GDP by 1.2% a year between 2018 and 2030.\\n- During 1800s, steam engines boosted labor productivity by 0.3% a year\\n- During 1990s, robots impacted 0.4% a year\\n- During 2000s, IT resulted in 0.6% a year\\nSource: McKinsey Global Institute\\nOUR CLIENTS\\nWhat our clients say about us\\n“\\nGanit\\nLabs provided\\na simple, accurate and elegant AI-based solution, customized for our needs. They used state-of-the-art dimensionality\\nreduction, data visualization, and anomaly detection\\ntechnologies.“ -- Oilfield service provider\\nPublicly-traded US oilfield service provider\\nBeverage producer in Europe\\nManufacturer of transmission equipment in US\\nUS research laboratories\\nPublicly-traded genomics company in the US\\nElectronic device manufacturer\\n© 2024 Ganit Labs. All rights reserved.\\nLinkedin\\nTwitter\\nFacebook\\nShopping Basket'}]"
      ]
     },
     "execution_count": 15,
     "metadata": {},
     "output_type": "execute_result"
    }
   ],
   "source": [
    "# Try this out, and then try for a few more websites\n",
    "\n",
    "messages_for(ed)"
   ]
  },
  {
   "cell_type": "markdown",
   "id": "16f49d46-bf55-4c3e-928f-68fc0bf715b0",
   "metadata": {},
   "source": [
    "## Time to bring it together - the API for OpenAI is very simple!"
   ]
  },
  {
   "cell_type": "code",
   "execution_count": 16,
   "id": "905b9919-aba7-45b5-ae65-81b3d1d78e34",
   "metadata": {},
   "outputs": [],
   "source": [
    "def summarize(url):\n",
    "    website = Website(url)\n",
    "    response = openai.chat.completions.create(\n",
    "        model = \"gpt-4o-mini\",\n",
    "        messages = messages_for(website)\n",
    "    )\n",
    "    return response.choices[0].message.content"
   ]
  },
  {
   "cell_type": "code",
   "execution_count": 17,
   "id": "05e38d41-dfa4-4b20-9c96-c46ea75d9fb5",
   "metadata": {},
   "outputs": [
    {
     "data": {
      "text/plain": [
       "'# Summary of Ganit Labs Website\\n\\nGanit Labs is a technology company focused on enabling businesses to leverage Artificial Intelligence (AI) and related technologies to enhance efficiencies and maintain competitiveness. Their mission revolves around the adoption and implementation of Machine Learning (ML), Deep Learning, and Data Science tailored to specific business needs. The company offers customized solutions that cover the entire process from design to deployment.\\n\\n## Key Areas of Expertise:\\n- **Data Science** with applications in AI and Machine Learning\\n- **Data Engineering**\\n- **Cloud & Edge Computing (IoT)**\\n\\n## Selected Projects:\\nGanit Labs has worked on diverse case studies across various sectors, including:\\n- **Food & Beverage**: Prediction of recipes\\n- **Oil & Gas**: Predicting equipment failure\\n- **Health Care & Genomics**: Implementation of ML in genomics\\n\\n## Global Impact:\\nThe website discusses the transformative potential of AI, citing a McKinsey Global Institute report that predicts significant economic growth due to AI adoption by businesses—projecting a $13 trillion impact on global GDP by 2030.\\n\\n## Client Testimonials:\\nGanit Labs has received positive feedback from clients, highlighting their ability to provide accurate and elegantly customized AI-based solutions using advanced techniques like dimensionality reduction, data visualization, and anomaly detection.\\n\\nOverall, Ganit Labs positions itself as a reliable partner in driving digital transformation through innovative AI solutions, supporting businesses in various industries to navigate the evolving technological landscape.'"
      ]
     },
     "execution_count": 17,
     "metadata": {},
     "output_type": "execute_result"
    }
   ],
   "source": [
    "summarize(\"https://ganitlabs.ai/\")"
   ]
  },
  {
   "cell_type": "code",
   "execution_count": 18,
   "id": "3d926d59-450e-4609-92ba-2d6f244f1342",
   "metadata": {},
   "outputs": [],
   "source": [
    "# A function to display this nicely in the Jupyter output, using markdown\n",
    "\n",
    "def display_summary(url):\n",
    "    summary = summarize(url)\n",
    "    display(Markdown(summary))"
   ]
  },
  {
   "cell_type": "code",
   "execution_count": 19,
   "id": "3018853a-445f-41ff-9560-d925d1774b2f",
   "metadata": {},
   "outputs": [
    {
     "data": {
      "text/markdown": [
       "# Summary of Ganit Labs Website\n",
       "\n",
       "Ganit Labs specializes in Machine Learning, Deep Learning, Artificial Intelligence, and Data Science, aiming to help businesses harness these technologies for improved efficiency and competitiveness. \n",
       "\n",
       "## Key Offerings\n",
       "- **Custom AI Solutions**: Tailored AI implementations from inception to deployment based on specific business needs.\n",
       "- **Expertise Areas**:\n",
       "  - Data Science & Machine Learning\n",
       "  - Data Engineering\n",
       "  - Cloud & Edge (IoT)\n",
       "\n",
       "## Case Studies\n",
       "Ganit Labs showcases a variety of selected projects, including:\n",
       "- **Prediction of Recipe** (Food & Beverage)\n",
       "- **Predict Equipment Failure** (Oil & Gas)\n",
       "- **Machine Learning in Genomics** (Health Care & Genomics)\n",
       "\n",
       "## Industry Insight\n",
       "The site emphasizes the transformative impact of AI, projecting that by 2030, a significant percentage of companies will adopt various AI technologies, contributing to substantial global economic growth.\n",
       "\n",
       "## Client Testimonials\n",
       "The company highlights its commitment to client satisfaction, with positive feedback on their customized AI solutions from various sectors, including oilfield services and beverage production.\n",
       "\n",
       "For more information, visit their [About](#), [Services](#), or [Case Studies](#) pages."
      ],
      "text/plain": [
       "<IPython.core.display.Markdown object>"
      ]
     },
     "metadata": {},
     "output_type": "display_data"
    }
   ],
   "source": [
    "display_summary(\"https://ganitlabs.ai/\")"
   ]
  },
  {
   "cell_type": "code",
   "execution_count": 19,
   "id": "45d83403-a24c-44b5-84ac-961449b4008f",
   "metadata": {},
   "outputs": [
    {
     "data": {
      "text/markdown": [
       "# Summary of CNN Website Content\n",
       "\n",
       "CNN’s website provides a comprehensive platform for breaking news, live updates, videos, and various topics ranging from politics to entertainment. It serves as a primary source for local and international news and engages users in a variety of media formats, including articles, videos, and podcasts.\n",
       "\n",
       "## Key Topics Covered:\n",
       "- **World Affairs**: Includes in-depth coverage of major global conflicts such as the Israel-Hamas war and the Ukraine-Russia war.\n",
       "- **Politics**: Features news related to elections, U.S. government activities, and significant political events.\n",
       "- **Health**: Articles on health-related issues, fitness advice, and studies addressing public health concerns.\n",
       "- **Entertainment**: Highlights in movies, television, and celebrity news.\n",
       "- **Science and Technology**: Reports on space exploration, technological advancements, and innovations.\n",
       "\n",
       "## Recent News Highlights:\n",
       "- **Military and Political Developments**: Analysis of military purges in China and President Putin's strategic communications relating to Ukraine.\n",
       "- **Ukraine Updates**: Reports include insights into the ongoing conflict and its impact on infrastructure.\n",
       "- **Cultural Events**: Coverage of global cultural events such as the emotional reunion in Gaza during harsh weather conditions.\n",
       "- **Business News**: Updates on significant market changes and antitrust probes involving major companies like Microsoft.\n",
       "\n",
       "The site encourages interactivity, inviting feedback on advertisements and user experience, while continuously updating to keep viewers informed about the latest happenings globally."
      ],
      "text/plain": [
       "<IPython.core.display.Markdown object>"
      ]
     },
     "metadata": {},
     "output_type": "display_data"
    }
   ],
   "source": [
    "display_summary(\"https://cnn.com\")"
   ]
  },
  {
   "cell_type": "code",
   "execution_count": 20,
   "id": "75e9fd40-b354-4341-991e-863ef2e59db7",
   "metadata": {},
   "outputs": [
    {
     "data": {
      "text/markdown": [
       "# Anthropic Website Summary\n",
       "\n",
       "Anthropic is an AI safety and research company based in San Francisco, focused on creating reliable and beneficial AI systems. The site prominently features their main product, **Claude**, highlighting the latest versions **Claude 3.5 Sonnet** and **Claude 3.5 Haiku**, which are touted as highly intelligent AI models.\n",
       "\n",
       "## Key Features\n",
       "- **Claude API**: Tools and resources for businesses to integrate Claude into their operations for efficiency and revenue growth.\n",
       "- **Enterprise Solutions**: Tailored offerings for enterprises looking to leverage AI in their operations.\n",
       "\n",
       "## Recent Announcements\n",
       "- **New AI Models**: As of **October 22, 2024**, Anthropic announced the introduction of computer use, along with updates to their AI models **3.5 Sonnet** and **3.5 Haiku**.\n",
       "- **Research Publications**: Previous publications include insights on AI safety principles and constitutional AI methodologies aimed at ensuring harmlessness in AI outputs.\n",
       "\n",
       "## About Anthropic\n",
       "The company is committed to safety in AI development and employs a diverse team with expertise in machine learning, policy, and physics, working collaboratively to advance the field. The website also lists career opportunities for individuals interested in joining their mission."
      ],
      "text/plain": [
       "<IPython.core.display.Markdown object>"
      ]
     },
     "metadata": {},
     "output_type": "display_data"
    }
   ],
   "source": [
    "display_summary(\"https://anthropic.com\")"
   ]
  },
  {
   "cell_type": "code",
   "execution_count": null,
   "id": "00743dac-0e70-45b7-879a-d7293a6f68a6",
   "metadata": {},
   "outputs": [],
   "source": [
    "# Step 1: Create your prompts\n",
    "\n",
    "system_prompt = \"something here\"\n",
    "user_prompt = \"\"\"\n",
    "    Lots of text\n",
    "    Can be pasted here\n",
    "\"\"\"\n",
    "\n",
    "# Step 2: Make the messages list\n",
    "\n",
    "messages = [] # fill this in\n",
    "\n",
    "# Step 3: Call OpenAI\n",
    "\n",
    "response =\n",
    "\n",
    "# Step 4: print the result\n",
    "\n",
    "print("
   ]
  }
 ],
 "metadata": {
  "kernelspec": {
   "display_name": "Python 3 (ipykernel)",
   "language": "python",
   "name": "python3"
  },
  "language_info": {
   "codemirror_mode": {
    "name": "ipython",
    "version": 3
   },
   "file_extension": ".py",
   "mimetype": "text/x-python",
   "name": "python",
   "nbconvert_exporter": "python",
   "pygments_lexer": "ipython3",
   "version": "3.11.10"
  }
 },
 "nbformat": 4,
 "nbformat_minor": 5
}
